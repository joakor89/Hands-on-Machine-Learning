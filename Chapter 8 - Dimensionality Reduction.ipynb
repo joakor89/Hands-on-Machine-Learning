{
 "cells": [
  {
   "cell_type": "markdown",
   "id": "39bf0147",
   "metadata": {},
   "source": [
    "# Dimensionality Reduction"
   ]
  },
  {
   "cell_type": "code",
   "execution_count": 1,
   "id": "349a4ecb",
   "metadata": {},
   "outputs": [],
   "source": [
    "# # System\n",
    "# import sys\n",
    "# import os\n",
    "# # Scikit-Learn\n",
    "# import sklearn\n",
    "# assert sklearn.__version__ >= \"0.20\"\n",
    "# # Numerical Manipulation\n",
    "# import numpy as np\n",
    "# # Data Manipualtion\n",
    "# import pandas as pd\n",
    "# # Data Visualization\n",
    "# %matplotlib inline\n",
    "# import matplotlib as mpl\n",
    "# import matplotlib.pyplot as plt"
   ]
  },
  {
   "cell_type": "markdown",
   "id": "3cbaa8c9",
   "metadata": {},
   "source": [
    "### PCA"
   ]
  },
  {
   "cell_type": "code",
   "execution_count": 2,
   "id": "1087f889",
   "metadata": {},
   "outputs": [],
   "source": [
    "# np.random.seed(4)\n",
    "# m = 60\n",
    "# w1, w2 = 0.1, 0.3\n",
    "# noise = 0.1\n",
    "\n",
    "# angles = np.random.rand(m) * 3 * np.pi / 2 - 0.5\n",
    "# X = np.empty((m, 3))\n",
    "# X[:, 0] = np.cos(angles) + np.sin(angles)/2 + noise * np.random.randn(m) / 2\n",
    "# X[:, 1] = np.sin(angles) * 0.7 + noise * np.random.randn(m) / 2\n",
    "# X[:, 2] = X[:, 0] * w1 + X[:, 1] * w2 + noise * np.random.randn(m)"
   ]
  },
  {
   "cell_type": "markdown",
   "id": "6606b630",
   "metadata": {},
   "source": [
    "### Principal Components"
   ]
  },
  {
   "cell_type": "code",
   "execution_count": 3,
   "id": "cfc5c71b",
   "metadata": {},
   "outputs": [],
   "source": [
    "# X_centered = X - X.mean(axis=0)\n",
    "# U, s, Vt = np.linalg.svd(X_centered)\n",
    "# c1 = Vt.T[:, 0]\n",
    "# c2 = Vt.T[:, 1]"
   ]
  },
  {
   "cell_type": "code",
   "execution_count": 4,
   "id": "d099a431",
   "metadata": {},
   "outputs": [],
   "source": [
    "# m, n = X.shape\n",
    "\n",
    "# S = np.zeros(X_centered.shape)\n",
    "# S[:n, :n] = np.diag(s)"
   ]
  },
  {
   "cell_type": "code",
   "execution_count": 5,
   "id": "192f9eba",
   "metadata": {},
   "outputs": [],
   "source": [
    "# np.allclose(X_centered, U.dot(S).dot(Vt))"
   ]
  },
  {
   "cell_type": "markdown",
   "id": "3fef5343",
   "metadata": {},
   "source": [
    "### Projecting Down to d Dimensions"
   ]
  },
  {
   "cell_type": "code",
   "execution_count": 10,
   "id": "b047565b",
   "metadata": {},
   "outputs": [],
   "source": [
    "# W2 = Vt.T[:, :2]\n",
    "# X2D = X_centered.dot(W2)"
   ]
  },
  {
   "cell_type": "code",
   "execution_count": 9,
   "id": "10d5405f",
   "metadata": {},
   "outputs": [],
   "source": [
    "# X2D_using_svd = X2D"
   ]
  },
  {
   "cell_type": "code",
   "execution_count": 8,
   "id": "77772893",
   "metadata": {},
   "outputs": [],
   "source": [
    "# from sklearn.decomposition import PCA"
   ]
  },
  {
   "cell_type": "code",
   "execution_count": 7,
   "id": "a4b91017",
   "metadata": {},
   "outputs": [],
   "source": [
    "# pca = PCA(n_components=2)\n",
    "# X2D = pca.fit_transform(X)"
   ]
  },
  {
   "cell_type": "markdown",
   "id": "af2663f5",
   "metadata": {},
   "source": [
    "### Explained Variance Ratio"
   ]
  },
  {
   "cell_type": "code",
   "execution_count": 6,
   "id": "0c5d6d7b",
   "metadata": {},
   "outputs": [],
   "source": [
    "# pca.explained_variance_ratio_"
   ]
  },
  {
   "cell_type": "code",
   "execution_count": 20,
   "id": "48752cd8",
   "metadata": {},
   "outputs": [],
   "source": [
    "# axes = [-11.5, 14, -2, 23, -12, 15]\n",
    "\n",
    "# fig = plt.figure(figsize=(6, 5))\n",
    "# ax = fig.add_subplot(111, projection='3d')\n",
    "\n",
    "# ax.scatter(X[:, 0], X[:, 1], X[:, 2], c=t, cmap=plt.cm.hot)\n",
    "# ax.view_init(10, -70)\n",
    "# ax.set_xlabel(\"$x_1$\", fontsize=18)\n",
    "# ax.set_ylabel(\"$x_2$\", fontsize=18)\n",
    "# ax.set_zlabel(\"$x_3$\", fontsize=18)\n",
    "# ax.set_xlim(axes[0:2])\n",
    "# ax.set_ylim(axes[2:4])\n",
    "# ax.set_zlim(axes[4:6])\n",
    "\n",
    "# plt.show()"
   ]
  },
  {
   "cell_type": "code",
   "execution_count": 19,
   "id": "54c23817",
   "metadata": {},
   "outputs": [],
   "source": [
    "# plt.figure(figsize=(11, 4))\n",
    "\n",
    "# plt.subplot(121)\n",
    "# plt.scatter(X[:, 0], X[:, 1], c=t, cmap=plt.cm.hot)\n",
    "# plt.axis(axes[:4])\n",
    "# plt.xlabel(\"$x_1$\", fontsize=18)\n",
    "# plt.ylabel(\"$x_2$\", fontsize=18, rotation=0)\n",
    "# plt.grid(True)\n",
    "\n",
    "# plt.subplot(122)\n",
    "# plt.scatter(t, X[:, 1], c=t, cmap=plt.cm.hot)\n",
    "# plt.axis([4, 15, axes[2], axes[3]])\n",
    "# plt.xlabel(\"$z_1$\", fontsize=18)\n",
    "# plt.grid(True)\n",
    "\n",
    "# plt.show()"
   ]
  },
  {
   "cell_type": "markdown",
   "id": "d0ca693f",
   "metadata": {},
   "source": [
    "### Choosing thr Right Numer of Dimensions"
   ]
  },
  {
   "cell_type": "code",
   "execution_count": 11,
   "id": "25b05988",
   "metadata": {},
   "outputs": [],
   "source": [
    "# from sklearn.datasets import fetch_openml\n",
    "\n",
    "# mnist = fetch_openml('mnist_784', version=1, as_frame=False, parser='auto')\n",
    "# mnist.target = mnist.target.astype(np.uint8)"
   ]
  },
  {
   "cell_type": "code",
   "execution_count": 12,
   "id": "f0883cd8",
   "metadata": {},
   "outputs": [],
   "source": [
    "# from sklearn.model_selection import train_test_split\n",
    "\n",
    "# X = mnist[\"data\"]\n",
    "# y = mnist[\"target\"]\n",
    "\n",
    "# X_train, X_test, y_train, y_test = train_test_split(X, y)"
   ]
  },
  {
   "cell_type": "code",
   "execution_count": 13,
   "id": "89d31f65",
   "metadata": {},
   "outputs": [],
   "source": [
    "# pca = PCA()\n",
    "# pca.fit(X_train)\n",
    "# cumsum = np.cumsum(pca.explained_variance_ratio_)\n",
    "# d = np.argmax(cumsum >= 0.95) + 1"
   ]
  },
  {
   "cell_type": "code",
   "execution_count": 14,
   "id": "bfb0b0d0",
   "metadata": {},
   "outputs": [],
   "source": [
    "# d"
   ]
  },
  {
   "cell_type": "code",
   "execution_count": 15,
   "id": "afd66764",
   "metadata": {},
   "outputs": [],
   "source": [
    "# pca = PCA(n_components=0.95)\n",
    "# X_reduced = pca.fit_transform(X_train)"
   ]
  },
  {
   "cell_type": "code",
   "execution_count": 16,
   "id": "6e64593c",
   "metadata": {},
   "outputs": [],
   "source": [
    "# pca.n_components_"
   ]
  },
  {
   "cell_type": "code",
   "execution_count": 17,
   "id": "91ff1213",
   "metadata": {},
   "outputs": [],
   "source": [
    "# np.sum(pca.explained_variance_ratio_)"
   ]
  },
  {
   "cell_type": "markdown",
   "id": "a3ef0ed5",
   "metadata": {},
   "source": [
    "### PCA for Compression"
   ]
  },
  {
   "cell_type": "code",
   "execution_count": 18,
   "id": "0580659e",
   "metadata": {},
   "outputs": [],
   "source": [
    "# pca = PCA(n_components=154)\n",
    "# X_reduced = pca.fit_transform(X_train)\n",
    "# X_recovered = pca.inverse_transform(X_reduced)"
   ]
  },
  {
   "cell_type": "markdown",
   "id": "1ffcdd82",
   "metadata": {},
   "source": [
    "### Randomized PCA"
   ]
  },
  {
   "cell_type": "code",
   "execution_count": 19,
   "id": "72a6efd9",
   "metadata": {},
   "outputs": [],
   "source": [
    "# rnd_pca = PCA(n_components=154, svd_solver=\"randomized\", random_state=42)\n",
    "# X_reduced = rnd_pca.fit_transform(X_train)"
   ]
  },
  {
   "cell_type": "code",
   "execution_count": 20,
   "id": "4458656b",
   "metadata": {},
   "outputs": [],
   "source": [
    "# from sklearn.decomposition import IncrementalPCA\n",
    "\n",
    "# n_batches = 100\n",
    "# inc_pca = IncrementalPCA(n_components=154)\n",
    "# for X_batch in np.array_split(X_train, n_batches):\n",
    "#     print(\".\", end=\"\") # not shown in the book\n",
    "#     inc_pca.partial_fit(X_batch)\n",
    "\n",
    "# X_reduced = inc_pca.transform(X_train)"
   ]
  },
  {
   "cell_type": "code",
   "execution_count": 28,
   "id": "accc8789",
   "metadata": {},
   "outputs": [],
   "source": [
    "# filename = \"my_mnist.data\"\n",
    "# m, n = X_train.shape\n",
    "\n",
    "# X_mm = np.memmap(filename, dtype='float32', mode='write', shape=(m, n))\n",
    "# X_mm[:] = X_train"
   ]
  },
  {
   "cell_type": "code",
   "execution_count": 29,
   "id": "22241b5b",
   "metadata": {},
   "outputs": [],
   "source": [
    "# X_mm = np.memmap(filename, dtype=\"float32\", mode=\"readonly\", shape=(m, n))\n",
    "\n",
    "# batch_size = m // n_batches\n",
    "# inc_pca = IncrementalPCA(n_components=154, batch_size=batch_size)\n",
    "# inc_pca.fit(X_mm)"
   ]
  },
  {
   "cell_type": "markdown",
   "id": "166ea5e6",
   "metadata": {},
   "source": [
    "### Kernel PCA"
   ]
  },
  {
   "cell_type": "code",
   "execution_count": 21,
   "id": "c17dd52c",
   "metadata": {},
   "outputs": [],
   "source": [
    "# from sklearn.datasets import make_swiss_roll\n",
    "\n",
    "# X, t = make_swiss_roll(n_samples=1000, noise=0.2, random_state=42)"
   ]
  },
  {
   "cell_type": "code",
   "execution_count": 41,
   "id": "0895b281",
   "metadata": {},
   "outputs": [],
   "source": [
    "# X, t = make_swiss_roll(n_samples=1000, noise=0.2, random_state=42)"
   ]
  },
  {
   "cell_type": "code",
   "execution_count": 42,
   "id": "c6c720e7",
   "metadata": {},
   "outputs": [],
   "source": [
    "# from sklearn.decomposition import KernelPCA\n",
    "\n",
    "# lin_pca = KernelPCA(n_components = 2, kernel=\"linear\", fit_inverse_transform=True)\n",
    "# rbf_pca = KernelPCA(n_components = 2, kernel=\"rbf\", gamma=0.0433, fit_inverse_transform=True)\n",
    "# sig_pca = KernelPCA(n_components = 2, kernel=\"sigmoid\", gamma=0.001, coef0=1, fit_inverse_transform=True)\n",
    "\n",
    "# y = t > 6.9\n",
    "\n",
    "# plt.figure(figsize=(11, 4))\n",
    "# for subplot, pca, title in ((131, lin_pca, \"Linear kernel\"), (132, rbf_pca, \"RBF kernel, $\\gamma=0.04$\"), (133, sig_pca, \"Sigmoid kernel, $\\gamma=10^{-3}, r=1$\")):\n",
    "#     X_reduced = pca.fit_transform(X)\n",
    "#     if subplot == 132:\n",
    "#         X_reduced_rbf = X_reduced\n",
    "    \n",
    "#     plt.subplot(subplot)\n",
    "#     #plt.plot(X_reduced[y, 0], X_reduced[y, 1], \"gs\")\n",
    "#     #plt.plot(X_reduced[~y, 0], X_reduced[~y, 1], \"y^\")\n",
    "#     plt.title(title, fontsize=14)\n",
    "#     plt.scatter(X_reduced[:, 0], X_reduced[:, 1], c=t, cmap=plt.cm.hot)\n",
    "#     plt.xlabel(\"$z_1$\", fontsize=18)\n",
    "#     if subplot == 131:\n",
    "#         plt.ylabel(\"$z_2$\", fontsize=18, rotation=0)\n",
    "#     plt.grid(True)\n",
    "\n",
    "# plt.show()"
   ]
  },
  {
   "cell_type": "code",
   "execution_count": 43,
   "id": "b1c7564c",
   "metadata": {},
   "outputs": [],
   "source": [
    "# plt.figure(figsize=(6, 5))\n",
    "\n",
    "# X_inverse = rbf_pca.inverse_transform(X_reduced_rbf)\n",
    "\n",
    "# ax = plt.subplot(111, projection='3d')\n",
    "# ax.view_init(10, -70)\n",
    "# ax.scatter(X_inverse[:, 0], X_inverse[:, 1], X_inverse[:, 2], c=t, cmap=plt.cm.hot, marker=\"x\")\n",
    "# ax.set_xlabel(\"\")\n",
    "# ax.set_ylabel(\"\")\n",
    "# ax.set_zlabel(\"\")\n",
    "# ax.set_xticklabels([])\n",
    "# ax.set_yticklabels([])\n",
    "# ax.set_zticklabels([])\n",
    "\n",
    "# plt.show()"
   ]
  },
  {
   "cell_type": "code",
   "execution_count": 44,
   "id": "51183b8a",
   "metadata": {},
   "outputs": [],
   "source": [
    "# X_reduced = rbf_pca.fit_transform(X)\n",
    "\n",
    "# plt.figure(figsize=(11, 4))\n",
    "# plt.subplot(132)\n",
    "# plt.scatter(X_reduced[:, 0], X_reduced[:, 1], c=t, cmap=plt.cm.hot, marker=\"x\")\n",
    "# plt.xlabel(\"$z_1$\", fontsize=18)\n",
    "# plt.ylabel(\"$z_2$\", fontsize=18, rotation=0)\n",
    "# plt.grid(True)"
   ]
  },
  {
   "cell_type": "markdown",
   "id": "b7128763",
   "metadata": {},
   "source": [
    "### Selecting a Kernel & Tuning Hyperparameters"
   ]
  },
  {
   "cell_type": "code",
   "execution_count": 45,
   "id": "dd9e9e5d",
   "metadata": {},
   "outputs": [],
   "source": [
    "# from sklearn.model_selection import GridSearchCV\n",
    "# from sklearn.linear_model import LogisticRegression\n",
    "# from sklearn.pipeline import Pipeline\n",
    "\n",
    "# clf = Pipeline([\n",
    "#         (\"kpca\", KernelPCA(n_components=2)),\n",
    "#         (\"log_reg\", LogisticRegression(solver=\"lbfgs\"))\n",
    "#     ])\n",
    "\n",
    "# param_grid = [{\n",
    "#         \"kpca__gamma\": np.linspace(0.03, 0.05, 10),\n",
    "#         \"kpca__kernel\": [\"rbf\", \"sigmoid\"]\n",
    "#     }]\n",
    "\n",
    "# grid_search = GridSearchCV(clf, param_grid, cv=3)\n",
    "# grid_search.fit(X, y)"
   ]
  },
  {
   "cell_type": "code",
   "execution_count": 46,
   "id": "10313c23",
   "metadata": {},
   "outputs": [],
   "source": [
    "# print(grid_search.best_params_)"
   ]
  },
  {
   "cell_type": "code",
   "execution_count": 47,
   "id": "99dd30df",
   "metadata": {},
   "outputs": [],
   "source": [
    "# rbf_pca = KernelPCA(n_components = 2, kernel=\"rbf\", gamma=0.0433,\n",
    "#                     fit_inverse_transform=True)\n",
    "# X_reduced = rbf_pca.fit_transform(X)\n",
    "# X_preimage = rbf_pca.inverse_transform(X_reduced)"
   ]
  },
  {
   "cell_type": "code",
   "execution_count": 48,
   "id": "82ce5da1",
   "metadata": {},
   "outputs": [],
   "source": [
    "# from sklearn.metrics import mean_squared_error\n",
    "\n",
    "# mean_squared_error(X, X_preimage)"
   ]
  },
  {
   "cell_type": "markdown",
   "id": "a25183fd",
   "metadata": {},
   "source": [
    "### LLE"
   ]
  },
  {
   "cell_type": "code",
   "execution_count": 22,
   "id": "d43044fe",
   "metadata": {},
   "outputs": [],
   "source": [
    "# X, t = make_swiss_roll(n_samples=1000, noise=0.2, random_state=41)"
   ]
  },
  {
   "cell_type": "code",
   "execution_count": 23,
   "id": "ab025570",
   "metadata": {},
   "outputs": [],
   "source": [
    "# from sklearn.manifold import LocallyLinearEmbedding\n",
    "\n",
    "# lle = LocallyLinearEmbedding(n_components=2, n_neighbors=10, random_state=42)\n",
    "# X_reduced = lle.fit_transform(X)"
   ]
  },
  {
   "cell_type": "code",
   "execution_count": 24,
   "id": "49e1f976",
   "metadata": {},
   "outputs": [],
   "source": [
    "# plt.title(\"Unrolled swiss roll using LLE\", fontsize=14)\n",
    "# plt.scatter(X_reduced[:, 0], X_reduced[:, 1], c=t, cmap=plt.cm.hot)\n",
    "# plt.xlabel(\"$z_1$\", fontsize=18)\n",
    "# plt.ylabel(\"$z_2$\", fontsize=18)\n",
    "# plt.axis([-0.065, 0.055, -0.1, 0.12])\n",
    "# plt.grid(True)\n",
    "\n",
    "# plt.show()"
   ]
  },
  {
   "cell_type": "code",
   "execution_count": null,
   "id": "79295eb9",
   "metadata": {},
   "outputs": [],
   "source": []
  }
 ],
 "metadata": {
  "kernelspec": {
   "display_name": "Python 3 (ipykernel)",
   "language": "python",
   "name": "python3"
  },
  "language_info": {
   "codemirror_mode": {
    "name": "ipython",
    "version": 3
   },
   "file_extension": ".py",
   "mimetype": "text/x-python",
   "name": "python",
   "nbconvert_exporter": "python",
   "pygments_lexer": "ipython3",
   "version": "3.9.16"
  }
 },
 "nbformat": 4,
 "nbformat_minor": 5
}
